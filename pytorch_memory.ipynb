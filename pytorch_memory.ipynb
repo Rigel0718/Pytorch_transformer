{
 "cells": [
  {
   "cell_type": "code",
   "execution_count": 1,
   "id": "82378b97",
   "metadata": {},
   "outputs": [],
   "source": [
    "import torch"
   ]
  },
  {
   "cell_type": "code",
   "execution_count": 2,
   "id": "9fb08c6e",
   "metadata": {},
   "outputs": [],
   "source": [
    "def gpu_utilization():\n",
    "    if torch.cuda.is_available():\n",
    "        used_memory = torch.cuda.memory_allocated() / 1024*3\n",
    "        print( f\"GPU 메모리 사용량 : {used_memory: .3f} GB\")\n",
    "    else:\n",
    "        print(\"GPU\")   "
   ]
  },
  {
   "cell_type": "code",
   "execution_count": 3,
   "id": "bfb3f0c5",
   "metadata": {},
   "outputs": [
    {
     "name": "stdout",
     "output_type": "stream",
     "text": [
      "GPU 메모리 사용량 :  0.000 GB\n"
     ]
    }
   ],
   "source": [
    "gpu_utilization()"
   ]
  },
  {
   "cell_type": "code",
   "execution_count": 1,
   "id": "ed592b3d",
   "metadata": {},
   "outputs": [],
   "source": [
    "import transformers "
   ]
  },
  {
   "cell_type": "code",
   "execution_count": null,
   "id": "c713c546",
   "metadata": {},
   "outputs": [],
   "source": []
  }
 ],
 "metadata": {
  "kernelspec": {
   "display_name": "Python 3 (ipykernel)",
   "language": "python",
   "name": "python3"
  },
  "language_info": {
   "codemirror_mode": {
    "name": "ipython",
    "version": 3
   },
   "file_extension": ".py",
   "mimetype": "text/x-python",
   "name": "python",
   "nbconvert_exporter": "python",
   "pygments_lexer": "ipython3",
   "version": "3.8.16"
  }
 },
 "nbformat": 4,
 "nbformat_minor": 5
}
